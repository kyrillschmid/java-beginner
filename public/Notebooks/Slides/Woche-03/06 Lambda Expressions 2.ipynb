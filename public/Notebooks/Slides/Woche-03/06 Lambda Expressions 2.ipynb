{
 "cells": [
  {
   "cell_type": "markdown",
   "id": "46a1f00edd5e21a6",
   "metadata": {
    "lang": "en",
    "lines_to_next_cell": 2,
    "slideshow": {
     "slide_type": "slide"
    },
    "tags": [
     "slide"
    ]
   },
   "source": [
    "\n",
    "<img src=\"data:image/png;base64,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\n",
    "\"\n",
    "     style=\"display:block;margin:auto;width:10%\"/>\n",
    "<br>\n",
    "\n",
    "<div style=\"text-align:center; font-size:200%;\">\n",
    "  <b>Lambda Expressions 2</b>\n",
    "</div>\n",
    "<br/>\n",
    "<div style=\"text-align:center;\">Dr. Kyrill Schmid</div>\n",
    "<br/>\n",
    "<!-- 06 Lambda Expressions 2.ipynb -->\n",
    "<!-- slides/module_112_language/topic_610_lambda_expressions_2.java -->"
   ]
  },
  {
   "cell_type": "markdown",
   "id": "4f403265043806d8",
   "metadata": {
    "lang": "en",
    "slideshow": {
     "slide_type": "slide"
    },
    "tags": [
     "slide"
    ]
   },
   "source": [
    "- In the last notebook we saw how we can use lambda expressions to pass code as data.\n",
    "- What if we just want to use lambdas without defining a new interface?"
   ]
  },
  {
   "cell_type": "markdown",
   "id": "4ee694bbafd23d22",
   "metadata": {
    "lang": "en",
    "slideshow": {
     "slide_type": "slide"
    },
    "tags": [
     "slide"
    ]
   },
   "source": [
    "## Further Improvements\n",
    "- Use standard functional interfaces with lambda expressions\n",
    "- The Java Development Kit(JDK) defines several standard functional interfaces, which you can find in the package `java.util.function`."
   ]
  },
  {
   "cell_type": "code",
   "execution_count": null,
   "id": "4380af174d5b7825",
   "metadata": {
    "slideshow": {
     "slide_type": "slide"
    },
    "tags": [
     "keep",
     "slide"
    ]
   },
   "outputs": [],
   "source": [
    "public class Person {\n",
    "    private int age;\n",
    "    private String name;\n",
    "    private String gender;\n",
    "\n",
    "    public Person(int age, String name, String gender) {\n",
    "        this.age = age;\n",
    "        this.name = name;\n",
    "        this.gender = gender;\n",
    "    }\n",
    "\n",
    "    public int getAge() {\n",
    "        return age;\n",
    "    }\n",
    "\n",
    "    public String getName() {\n",
    "        return name;\n",
    "    }\n",
    "\n",
    "    public String getGender() {\n",
    "        return gender;\n",
    "    }\n",
    "\n",
    "    // toString method for easy printing\n",
    "    @Override\n",
    "    public String toString() {\n",
    "        return \"Person{\" +\n",
    "               \"age=\" + age +\n",
    "               \", name='\" + name + '\\'' +\n",
    "               \", gender='\" + gender + '\\'' +\n",
    "               '}';\n",
    "    }\n",
    "\n",
    "    public void printPerson() {\n",
    "        System.out.println(this.toString());\n",
    "    }\n",
    "}"
   ]
  },
  {
   "cell_type": "code",
   "execution_count": null,
   "id": "84f61b83d602c2cf",
   "metadata": {
    "lines_to_next_cell": 2,
    "tags": [
     "keep"
    ]
   },
   "outputs": [],
   "source": [
    "List<Person> people = Arrays.asList(\n",
    "            new Person(30, \"Alice\", \"Female\"),\n",
    "            new Person(35, \"Bob\", \"Male\"),\n",
    "            new Person(28, \"Carol\", \"Female\"),\n",
    "            new Person(40, \"David\", \"Male\"),\n",
    "            new Person(21, \"Joe\", \"Male\"));"
   ]
  },
  {
   "cell_type": "markdown",
   "id": "a139c8f94459b6cc",
   "metadata": {
    "lang": "en",
    "slideshow": {
     "slide_type": "slide"
    },
    "tags": [
     "slide"
    ]
   },
   "source": [
    "## Functional Interfaces\n",
    "- Let's revisit the `CheckPerson` interface from the previous notebook\n",
    "- It's a functional interface because it contains only one abstract method. \n",
    "- This method takes one parameter and returns a boolean value. \n",
    "- The method is so simple that it might not be worth it to define one in your application."
   ]
  },
  {
   "cell_type": "code",
   "execution_count": null,
   "id": "43557fd27e227ca8",
   "metadata": {},
   "outputs": [],
   "source": [
    "interface CheckPerson {\n",
    "    boolean test(Person p);\n",
    "}"
   ]
  },
  {
   "cell_type": "markdown",
   "id": "d81113a3d8dbb78c",
   "metadata": {
    "lang": "en",
    "lines_to_next_cell": 2,
    "slideshow": {
     "slide_type": "slide"
    },
    "tags": [
     "slide"
    ]
   },
   "source": [
    "- Consequently, the JDK defines several standard functional interfaces, which you can find in the package java.util.function.\n",
    "- For example, you can use the Predicate<T> interface in place of CheckPerson. \n",
    "- The Predicate<T> interface contains the method boolean `test(T t)`:"
   ]
  },
  {
   "cell_type": "code",
   "execution_count": null,
   "id": "4aa3b9b6c35eb33d",
   "metadata": {
    "lines_to_next_cell": 2
   },
   "outputs": [],
   "source": [
    "interface Predicate<T> {\n",
    "    boolean test(T t);\n",
    "}"
   ]
  },
  {
   "cell_type": "code",
   "execution_count": null,
   "id": "9a57fe83b0fccda1",
   "metadata": {},
   "outputs": [],
   "source": [
    "public static void printPersonsWithPredicate(\n",
    "    List<Person> people, Predicate<Person> tester) {\n",
    "    for (Person p : people) {\n",
    "        if (tester.test(p)) {\n",
    "            p.printPerson();\n",
    "        }\n",
    "    }\n",
    "}"
   ]
  },
  {
   "cell_type": "code",
   "execution_count": null,
   "id": "2298ac6656e4e32e",
   "metadata": {
    "lines_to_next_cell": 2
   },
   "outputs": [],
   "source": [
    "printPersonsWithPredicate(\n",
    "    people,\n",
    "    p -> p.getGender().equals(\"Male\")\n",
    "        && p.getAge() >= 18\n",
    "        && p.getAge() <= 25\n",
    ");"
   ]
  },
  {
   "cell_type": "markdown",
   "id": "7d4dfd8e863897ae",
   "metadata": {
    "lang": "en",
    "lines_to_next_cell": 2,
    "slideshow": {
     "slide_type": "slide"
    },
    "tags": [
     "slide"
    ]
   },
   "source": [
    "- The interface Predicate<T> is an example of a generic interface. \n",
    "- Generic types (such as generic interfaces) specify one or more type parameters within angle brackets (<>). \n",
    "- This interface contains only one type parameter, T. When you declare or instantiate a generic type with actual type arguments, you have a parameterized type. "
   ]
  },
  {
   "cell_type": "markdown",
   "id": "83248ca3f0642fb1",
   "metadata": {
    "lang": "en",
    "slideshow": {
     "slide_type": "slide"
    },
    "tags": [
     "slide"
    ]
   },
   "source": [
    "## Use Lambda Expressions Throughout Your Application\n",
    "- Reconsider the method printPersonsWithPredicate to see where else you could use lambda expressions\n",
    "- Instead of invoking the method printPerson, you can specify a different action to perform on those Person instances that satisfy the criteria specified by tester\n",
    "- We could use the `Consumer<T>` interface which contains the method `void accept(T t)`"
   ]
  },
  {
   "cell_type": "code",
   "execution_count": null,
   "id": "15e072e96c1718d3",
   "metadata": {
    "tags": [
     "alt"
    ]
   },
   "outputs": [],
   "source": [
    "public static void processPersons(\n",
    "    List<Person> people,\n",
    "    Predicate<Person> tester,\n",
    "    Consumer<Person> block) {\n",
    "        for (Person p : people) {\n",
    "            if (tester.test(p)) {\n",
    "                block.accept(p);\n",
    "            }\n",
    "        }\n",
    "}"
   ]
  },
  {
   "cell_type": "markdown",
   "id": "251f44ddca0f0e55",
   "metadata": {
    "lang": "en",
    "slideshow": {
     "slide_type": "slide"
    },
    "tags": [
     "slide"
    ]
   },
   "source": [
    "- As a result, the following method invocation is the same as when you invoked printPersons in Approach 3:"
   ]
  },
  {
   "cell_type": "code",
   "execution_count": null,
   "id": "a0022c44453e5813",
   "metadata": {},
   "outputs": [],
   "source": [
    "processPersons(\n",
    "    people,\n",
    "    p -> p.getGender().equals(\"Male\")\n",
    "        && p.getAge() >= 18\n",
    "        && p.getAge() <= 25,\n",
    "    p -> p.printPerson()\n",
    ");"
   ]
  },
  {
   "cell_type": "markdown",
   "id": "917094dc1cee809e",
   "metadata": {
    "lang": "en",
    "slideshow": {
     "slide_type": "slide"
    },
    "tags": [
     "slide"
    ]
   },
   "source": [
    "- What if you want to do more? \n",
    "- Validate members' profiles, retrieve contact information?\n",
    "- You can use the `Function<T, R>` interface which contains the method `R apply(T t)` to return a value of type R"
   ]
  },
  {
   "cell_type": "code",
   "execution_count": null,
   "id": "52b645e71ec7d4a2",
   "metadata": {
    "tags": [
     "alt"
    ]
   },
   "outputs": [],
   "source": [
    "public static void processPersonsWithFunction(\n",
    "    List<Person> people,\n",
    "    Predicate<Person> tester,\n",
    "    Function<Person, String> mapper,\n",
    "    Consumer<String> block) {\n",
    "    for (Person p : people) {\n",
    "        if (tester.test(p)) {\n",
    "            String data = mapper.apply(p);\n",
    "            block.accept(data);\n",
    "        }\n",
    "    }\n",
    "}"
   ]
  },
  {
   "cell_type": "markdown",
   "id": "f015db649b39175d",
   "metadata": {
    "lang": "en",
    "lines_to_next_cell": 2,
    "slideshow": {
     "slide_type": "slide"
    },
    "tags": [
     "slide"
    ]
   },
   "source": [
    "- So this would yield us the following:"
   ]
  },
  {
   "cell_type": "code",
   "execution_count": null,
   "id": "4c761916dbbe001a",
   "metadata": {
    "lines_to_next_cell": 2,
    "tags": [
     "alt"
    ]
   },
   "outputs": [],
   "source": [
    "processPersonsWithFunction(\n",
    "    people,\n",
    "    p -> p.getGender() == Person.Sex.MALE\n",
    "        && p.getAge() >= 18\n",
    "        && p.getAge() <= 25,\n",
    "    p -> p.getEmailAddress(),\n",
    "    email -> System.out.println(email)\n",
    ");"
   ]
  },
  {
   "cell_type": "markdown",
   "id": "bd2e6dc9f8449f3b",
   "metadata": {
    "lang": "en",
    "slideshow": {
     "slide_type": "slide"
    },
    "tags": [
     "slide"
    ]
   },
   "source": [
    "## Use Generics More Extensively\n",
    "- Reconsider the method `processPersonsWithFunction`. The following is a generic version of it that accepts, as a parameter, a collection that contains elements of any data type"
   ]
  },
  {
   "cell_type": "code",
   "execution_count": null,
   "id": "1d15231e7ef70fa7",
   "metadata": {},
   "outputs": [],
   "source": [
    "public static <X, Y> void processElements(\n",
    "    Iterable<X> source,\n",
    "    Predicate<X> tester,\n",
    "    Function <X, Y> mapper,\n",
    "    Consumer<Y> block) {\n",
    "    for (X p : source) {\n",
    "        if (tester.test(p)) {\n",
    "            Y data = mapper.apply(p);\n",
    "            block.accept(data);\n",
    "        }\n",
    "    }\n",
    "}"
   ]
  },
  {
   "cell_type": "markdown",
   "id": "53dd1abee0d9e0a8",
   "metadata": {
    "lang": "en",
    "slideshow": {
     "slide_type": "slide"
    },
    "tags": [
     "slide"
    ]
   },
   "source": [
    "- To print the email addresses of members who satisfy the search criteria, you can invoke the following method:"
   ]
  },
  {
   "cell_type": "code",
   "execution_count": null,
   "id": "efc4564f3083ff86",
   "metadata": {
    "lines_to_next_cell": 2
   },
   "outputs": [],
   "source": [
    "processElements(\n",
    "    people,\n",
    "    p -> p.getGender().equals(\"Male\")\n",
    "        && p.getAge() >= 18\n",
    "        && p.getAge() <= 25,\n",
    "    p -> p.getEmailAddress(),\n",
    "    email -> System.out.println(email)\n",
    ");"
   ]
  },
  {
   "cell_type": "markdown",
   "id": "ce042626b0f04939",
   "metadata": {
    "lang": "en",
    "slideshow": {
     "slide_type": "slide"
    },
    "tags": [
     "slide"
    ]
   },
   "source": [
    "\n",
    "## Workshop: Lambda Expressions\n",
    "Below we have a simple lambda expression which takes in an integer and returns the value multiplied by 2:\n",
    "```\n",
    "(int x) -> x * 2;\n",
    "```\n",
    "- Create a lambda expression which takes in a string and return its length.\n",
    "- Use the `Function` functional interface in the package `java.util.function` to create a lambda expression which takes in a string and return its length."
   ]
  },
  {
   "cell_type": "code",
   "execution_count": null,
   "id": "59e9523510eef576",
   "metadata": {},
   "outputs": [],
   "source": [
    "import java.util.function.Function;"
   ]
  },
  {
   "cell_type": "code",
   "execution_count": null,
   "id": "8cab4fb6dcf965ba",
   "metadata": {},
   "outputs": [],
   "source": [
    "Function<String, Integer> lengthFunction = (String str) -> str.length();"
   ]
  },
  {
   "cell_type": "code",
   "execution_count": null,
   "id": "9b59a01de0c71c11",
   "metadata": {},
   "outputs": [],
   "source": [
    "lengthFunction.apply(\"Hello\");"
   ]
  },
  {
   "cell_type": "markdown",
   "id": "d6a571435d0f9b23",
   "metadata": {
    "slideshow": {
     "slide_type": "subslide"
    },
    "tags": [
     "subslide"
    ]
   },
   "source": [
    "### The Comparator Functional Interface\n",
    "As a more complex example, lambda expressions can be used in the context of functional interfaces which are interfaces that specify exactly one abstract method, like `Runnable` or `Comparator<T>`.\n",
    "\n",
    "Here is an example with `Runnable`:\n",
    "```\n",
    "Runnable run = () -> System.out.println(\"Lambda expression as a Runnable\");\n",
    "run.run();\n",
    "```\n",
    "Create a `Comparator<Integer>` using a lambda expression that will sort numbers in decreasing order."
   ]
  },
  {
   "cell_type": "code",
   "execution_count": null,
   "id": "13286b0043107e85",
   "metadata": {},
   "outputs": [],
   "source": [
    "Comparator<Integer> comp = (Integer a, Integer b) -> b - a;"
   ]
  },
  {
   "cell_type": "code",
   "execution_count": null,
   "id": "8a6fc801ae6c8920",
   "metadata": {},
   "outputs": [],
   "source": [
    "List<Integer> numbers = Arrays.asList(3, 1, 4, 1, 5, 9);\n",
    "System.out.println(\"Original list: \" + numbers);"
   ]
  },
  {
   "cell_type": "code",
   "execution_count": null,
   "id": "2822c8f9132e36d6",
   "metadata": {},
   "outputs": [],
   "source": [
    "Collections.sort(numbers, comp);\n",
    "System.out.println(\"Sorted list in descending order: \" + numbers);"
   ]
  },
  {
   "cell_type": "markdown",
   "id": "2c4e93575fd4883e",
   "metadata": {
    "slideshow": {
     "slide_type": "subslide"
    },
    "tags": [
     "subslide"
    ]
   },
   "source": [
    "### The Predicate Functional Interface\n",
    "\n",
    "Predicate is a functional interface that represents a boolean-valued-function of an input. It is often used in all kinds of filtering operations.\n",
    "\n",
    "Let's create a `Predicate<Integer>` that will check if an integer is greater than 5."
   ]
  },
  {
   "cell_type": "code",
   "execution_count": null,
   "id": "5392eec6c5226560",
   "metadata": {},
   "outputs": [],
   "source": [
    "import java.util.function.Predicate;"
   ]
  },
  {
   "cell_type": "code",
   "execution_count": null,
   "id": "18f01be5e1f04c81",
   "metadata": {},
   "outputs": [],
   "source": [
    "Predicate<Integer> isGreaterThanFive = x -> x > 5;"
   ]
  },
  {
   "cell_type": "code",
   "execution_count": null,
   "id": "ceee57ecc12e7dc8",
   "metadata": {
    "lines_to_next_cell": 2
   },
   "outputs": [],
   "source": [
    "isGreaterThanFive.test(6)"
   ]
  },
  {
   "cell_type": "markdown",
   "id": "b9b9942b8b397287",
   "metadata": {
    "slideshow": {
     "slide_type": "subslide"
    },
    "tags": [
     "subslide"
    ]
   },
   "source": [
    "### The Function Functional Interface\n",
    "\n",
    "`Function<T, R>` is a functional interface that represents a function that accepts an argument and produces a result. The argument and result can be of different types. \n",
    "\n",
    "Create a `Function<String, Integer>`, that will return the length of a string."
   ]
  },
  {
   "cell_type": "code",
   "execution_count": null,
   "id": "63d44e53b31cc0ad",
   "metadata": {},
   "outputs": [],
   "source": [
    "Function<String, Integer> lengthFunc = str -> str.length();"
   ]
  },
  {
   "cell_type": "code",
   "execution_count": null,
   "id": "54ab502f0ab5341a",
   "metadata": {
    "lines_to_next_cell": 2
   },
   "outputs": [],
   "source": [
    "lengthFunc.apply(\"Lambda expression\");"
   ]
  }
 ],
 "metadata": {
  "kernelspec": {
   "display_name": "Java",
   "language": "java",
   "name": "java"
  },
  "language_info": {
   "codemirror_mode": "java",
   "file_extension": ".java",
   "mimetype": "text/java",
   "name": "Java",
   "pygments_lexer": "java",
   "version": ""
  }
 },
 "nbformat": 4,
 "nbformat_minor": 5
}
