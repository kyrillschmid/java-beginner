{
 "cells": [
  {
   "cell_type": "markdown",
   "id": "7b39c2c3166a5aae",
   "metadata": {
    "lang": "en",
    "lines_to_next_cell": 2,
    "slideshow": {
     "slide_type": "slide"
    },
    "tags": [
     "slide"
    ]
   },
   "source": [
    "\n",
    "<img src=\"data:image/png;base64,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\n",
    "\"\n",
    "     style=\"display:block;margin:auto;width:10%\"/>\n",
    "<br>\n",
    "\n",
    "<div style=\"text-align:center; font-size:200%;\">\n",
    "  <b>Streams - Reduction</b>\n",
    "</div>\n",
    "<br/>\n",
    "<div style=\"text-align:center;\">Dr. Kyrill Schmid</div>\n",
    "<br/>\n",
    "<!-- 06 Streams - Reduction.ipynb -->\n",
    "<!-- slides/module_200_streams/topic_101_streams_reduction.java -->"
   ]
  },
  {
   "cell_type": "markdown",
   "id": "3c0022d42d0114b8",
   "metadata": {
    "lang": "en",
    "slideshow": {
     "slide_type": "slide"
    },
    "tags": [
     "slide"
    ]
   },
   "source": [
    "## Introduction\n",
    "- The JDK contains many terminal operations like `average`, `sum`, `min`, `max`, and `count` \n",
    "- These methods return one value by combining the contents of a stream (called reduction operations)\n",
    "- The JDK also provides more general-purpose reduction operations `reduce` and `collect` which we will explore in this notebook"
   ]
  },
  {
   "cell_type": "code",
   "execution_count": null,
   "id": "90a77fb9b7c5136d",
   "metadata": {
    "tags": [
     "keep"
    ]
   },
   "outputs": [],
   "source": [
    "public class Person {\n",
    "\n",
    "    private int age;\n",
    "    private String name;\n",
    "    private Sex gender;\n",
    "\n",
    "    public enum Sex {\n",
    "        MALE, FEMALE, OTHER\n",
    "    }\n",
    "\n",
    "    public Person(int age, String name, Sex gender) {\n",
    "        this.age = age;\n",
    "        this.name = name;\n",
    "        this.gender = gender;\n",
    "    }\n",
    "    \n",
    "    public int getAge() {\n",
    "        return age;\n",
    "    }\n",
    "\n",
    "    public String getName() {\n",
    "        return name;\n",
    "    }\n",
    "\n",
    "    public Sex getGender(){\n",
    "        return gender;\n",
    "    }\n",
    "\n",
    "    public String toString() {\n",
    "    return \"Person{\" +\n",
    "            \"age=\" + age +\n",
    "            \", name='\" + name + '\\'' +\n",
    "            \", gender='\" + gender + '\\'' +            \n",
    "            '}';\n",
    "    }\n",
    "}"
   ]
  },
  {
   "cell_type": "code",
   "execution_count": null,
   "id": "6c082c963c5e1ae1",
   "metadata": {
    "slideshow": {
     "slide_type": "slide"
    },
    "tags": [
     "slide",
     "keep"
    ]
   },
   "outputs": [],
   "source": [
    "public List<Person> createPeopleList() {\n",
    "    return Arrays.asList(\n",
    "        new Person(35, \"Eve\", Person.Sex.FEMALE),\n",
    "        new Person(33, \"Alice\", Person.Sex.FEMALE),\n",
    "        new Person(23, \"Charlie\", Person.Sex.MALE),\n",
    "        new Person(28, \"Diana\", Person.Sex.FEMALE),\n",
    "        new Person(38, \"Bob\", Person.Sex.MALE)\n",
    "    );   \n",
    "}"
   ]
  },
  {
   "cell_type": "code",
   "execution_count": null,
   "id": "355fb23242a187cd",
   "metadata": {
    "lines_to_next_cell": 2,
    "tags": [
     "keep"
    ]
   },
   "outputs": [],
   "source": [
    "List<Person> people = createPeopleList();"
   ]
  },
  {
   "cell_type": "markdown",
   "id": "713a764a78ef9d41",
   "metadata": {
    "lang": "en",
    "slideshow": {
     "slide_type": "slide"
    },
    "tags": [
     "slide"
    ]
   },
   "source": [
    "- In the last notebook we used a pipeline to calculate the average age from the people list:"
   ]
  },
  {
   "cell_type": "code",
   "execution_count": null,
   "id": "896d298dac05caf2",
   "metadata": {
    "tags": [
     "keep"
    ]
   },
   "outputs": [],
   "source": [
    "people\n",
    "     .stream()\n",
    "     .filter(p -> p.getGender() == Person.Sex.MALE)\n",
    "     .mapToInt(Person::getAge)\n",
    "     .average()\n",
    "     .getAsDouble();"
   ]
  },
  {
   "cell_type": "markdown",
   "id": "622d64ca412ee1c8",
   "metadata": {
    "lang": "en",
    "slideshow": {
     "slide_type": "slide"
    },
    "tags": [
     "slide"
    ]
   },
   "source": [
    "- The JDK contains many specific terminal operations that return one value by combining the contents of a stream\n",
    "     - For example: `average`, `sum`, `min`, `max`, `count` (called reduction operations)\n",
    "- The JDK also contains reduction operations that return a collection instead of a single value\n",
    "- Many reduction operations perform a specific task, such as finding the average of values or grouping elements into categories\n",
    "- `reduce` and `collect` are more general-purpose reduction operations that you can use to perform arbitrary operations on the contents of a stream"
   ]
  },
  {
   "cell_type": "markdown",
   "id": "d14fc36bb3e4f625",
   "metadata": {
    "lang": "en",
    "slideshow": {
     "slide_type": "slide"
    },
    "tags": [
     "slide"
    ]
   },
   "source": [
    "## The Stream.reduce Method\n",
    "- The `Stream.reduce` method is a general-purpose reduction operation\n",
    "- Consider the following pipeline, which calculates the sum of the male members' ages in the collection `people`"
   ]
  },
  {
   "cell_type": "code",
   "execution_count": null,
   "id": "b4cadbc13baa4ac9",
   "metadata": {},
   "outputs": [],
   "source": []
  },
  {
   "cell_type": "markdown",
   "id": "d37cde8577fd187d",
   "metadata": {
    "lang": "en",
    "slideshow": {
     "slide_type": "slide"
    },
    "tags": [
     "slide"
    ]
   },
   "source": [
    "- Compare this with the following pipeline, which uses the `Stream.reduce` operation to calculate the same value:"
   ]
  },
  {
   "cell_type": "code",
   "execution_count": null,
   "id": "3017b1c08b6a71b2",
   "metadata": {},
   "outputs": [],
   "source": []
  },
  {
   "cell_type": "markdown",
   "id": "350cc7ffb54e8554",
   "metadata": {
    "lang": "en",
    "slideshow": {
     "slide_type": "slide"
    },
    "tags": [
     "slide"
    ]
   },
   "source": [
    "The `reduce` method takes two parameters:\n",
    "- **Identity**: The identity element is both the initial value of the reduction and the default result \n",
    "- **Accumulator**: The accumulator function takes two parameters: a partial result of the reduction and the next element of the stream\n",
    "```java\n",
    "(a, b) -> a + b\n",
    "```"
   ]
  },
  {
   "cell_type": "markdown",
   "id": "2d454a1e5b02fb3e",
   "metadata": {
    "lang": "en",
    "lines_to_next_cell": 2,
    "slideshow": {
     "slide_type": "slide"
    },
    "tags": [
     "slide"
    ]
   },
   "source": [
    "- The `reduce` method always returns a new value\n",
    "- However, the accumulator function also returns a new value every time it processes an element of a stream\n",
    "- If the reduce operation involves adding elements to a collection, then every time the accumulator function processes an element, it creates a new collection that includes the element\n",
    "- It would be more efficient to update an existing collection instead"
   ]
  },
  {
   "cell_type": "markdown",
   "id": "3c1bcc6b68b0a409",
   "metadata": {
    "lang": "en",
    "slideshow": {
     "slide_type": "slide"
    },
    "tags": [
     "slide"
    ]
   },
   "source": [
    "## The Stream.collect Method\n",
    "- Unlike the `reduce` method, which always creates a new value when it processes an element, the `collect` method modifies, or mutates, an existing value\n",
    "- The collect method also returns only one value\n",
    "- To calculate the average we therefore could create a new data type that holds the total and the count of elements:"
   ]
  },
  {
   "cell_type": "code",
   "execution_count": null,
   "id": "c62ee260b91215b4",
   "metadata": {},
   "outputs": [],
   "source": []
  },
  {
   "cell_type": "markdown",
   "id": "e580c9d16df81433",
   "metadata": {
    "lang": "en",
    "slideshow": {
     "slide_type": "slide"
    },
    "tags": [
     "slide"
    ]
   },
   "source": [
    "- The following pipeline uses the Averager class and the collect method to calculate the average age of all male members:"
   ]
  },
  {
   "cell_type": "code",
   "execution_count": null,
   "id": "64aef67d6948719f",
   "metadata": {
    "tags": [
     "start"
    ]
   },
   "outputs": [],
   "source": [
    "Averager averageCollect = people.stream()\n",
    "    .filter(p -> p.getGender() == Person.Sex.MALE)\n",
    "    .map(Person::getAge)\n",
    "    .collect(...);"
   ]
  },
  {
   "cell_type": "code",
   "execution_count": null,
   "id": "26d010e3e8c6a2dc",
   "metadata": {},
   "outputs": [],
   "source": []
  },
  {
   "cell_type": "markdown",
   "id": "6217d2b3547e0bc5",
   "metadata": {
    "lang": "en",
    "slideshow": {
     "slide_type": "slide"
    },
    "tags": [
     "slide"
    ]
   },
   "source": [
    "The collect operation in this example takes three arguments:\n",
    "- **Supplier**: The supplier is a factory function; it constructs new instances\n",
    "     - For the collect operation, it creates instances of the result container\n",
    "     - In this example, it is a new instance of the Averager class\n",
    "- **Accumulator**: The accumulator function incorporates a stream element into a result container\n",
    "     -  In this example, it modifies the Averager result container by incrementing the count variable by one and adding to the total member variable the value of the stream element\n",
    "- **Combiner**: The combiner function takes two result containers and merges their contents\n",
    "     - It modifies an `Averager` result container by incrementing the count variable by the count member variable of the other `Averager` instance \n",
    "     - It adds to the total member variable the value of the other Averager instance's total member variable"
   ]
  },
  {
   "cell_type": "markdown",
   "id": "58f4f447a2e4f24c",
   "metadata": {
    "lang": "en",
    "slideshow": {
     "slide_type": "slide"
    },
    "tags": [
     "slide"
    ]
   },
   "source": [
    "## More Reduction Examples\n",
    "- The `collect` operation is best suited for collections\n",
    "- In the following example we put the names of the female members in a collection into a list\n",
    "- This version of the `collect` operation takes one parameter of type `Collector`"
   ]
  },
  {
   "cell_type": "code",
   "execution_count": null,
   "id": "6fb38b5dd96956b9",
   "metadata": {},
   "outputs": [],
   "source": []
  },
  {
   "cell_type": "code",
   "execution_count": null,
   "id": "36cbb0211e9c50a5",
   "metadata": {},
   "outputs": [],
   "source": []
  },
  {
   "cell_type": "code",
   "execution_count": null,
   "id": "542968545e42240f",
   "metadata": {},
   "outputs": [],
   "source": []
  },
  {
   "cell_type": "markdown",
   "id": "aeed0ca5624d8dfb",
   "metadata": {
    "lang": "en",
    "slideshow": {
     "slide_type": "slide"
    },
    "tags": [
     "slide"
    ]
   },
   "source": [
    "- The `Collectors` class provides many useful reduction operations\n",
    "     - Accumulating elements into collections \n",
    "     - Summarizing elements according to various criteria\n",
    "- These reduction operations return instances of the class `Collector` so it can be passed to the `collect` method"
   ]
  },
  {
   "cell_type": "markdown",
   "id": "97968139ea1eb1fb",
   "metadata": {
    "lang": "en",
    "slideshow": {
     "slide_type": "slide"
    },
    "tags": [
     "slide"
    ]
   },
   "source": [
    "- The following example groups members of the collection by gender"
   ]
  },
  {
   "cell_type": "code",
   "execution_count": null,
   "id": "004bbfe028dabb7e",
   "metadata": {},
   "outputs": [],
   "source": []
  },
  {
   "cell_type": "code",
   "execution_count": null,
   "id": "903403f2906fc98c",
   "metadata": {},
   "outputs": [],
   "source": []
  },
  {
   "cell_type": "markdown",
   "id": "61ab4f0260d13bfd",
   "metadata": {
    "lang": "en",
    "slideshow": {
     "slide_type": "slide"
    },
    "tags": [
     "slide"
    ]
   },
   "source": [
    "- The `groupingBy` operation returns a map whose keys are the values that result from applying the lambda expression specified as its parameter \n",
    "- In this example, the returned map contains two keys, `Person.Sex.MALE` and `Person.Sex.FEMALE`\n",
    "- The keys' corresponding values are instances of List that contain the stream elements that, when processed by the classification function, correspond to the key value"
   ]
  },
  {
   "cell_type": "markdown",
   "id": "6ec50a65d01533d7",
   "metadata": {
    "lang": "en",
    "slideshow": {
     "slide_type": "slide"
    },
    "tags": [
     "slide"
    ]
   },
   "source": [
    "- The following example retrieves the names of each member in the collection `people` and groups them by gender"
   ]
  },
  {
   "cell_type": "code",
   "execution_count": null,
   "id": "3f604fc16d7c4cf8",
   "metadata": {
    "tags": [
     "start"
    ]
   },
   "outputs": [],
   "source": [
    "Map<Person.Sex, List<String>> namesByGender =\n",
    "    people\n",
    "        .stream()\n",
    "        .collect(\n",
    "            Collectors.groupingBy(...);"
   ]
  },
  {
   "cell_type": "code",
   "execution_count": null,
   "id": "236e4c32fe103454",
   "metadata": {},
   "outputs": [],
   "source": []
  },
  {
   "cell_type": "markdown",
   "id": "bb9ecd2579eb3a46",
   "metadata": {
    "incorrectly_encoded_metadata": "lang=\"en\" tags=[\"slide\"",
    "lines_to_next_cell": 2
   },
   "source": [
    "- The `groupingBy` operation in this example takes two parameters:\n",
    "     - The first parameter is the classification function, which specifies how the elements are classified\n",
    "     - The seconnd parameter is a `Collector` and is called a downstream collector. \n",
    "     - This is a collector that the Java runtime applies to the results of another collector.\n",
    "     - Consequently, this `groupingBy` operation enables you to apply a `collect` method to the List values created by the groupingBy operator"
   ]
  },
  {
   "cell_type": "markdown",
   "id": "0660afe6f4012bdd",
   "metadata": {
    "lang": "en",
    "slideshow": {
     "slide_type": "slide"
    },
    "tags": [
     "slide"
    ]
   },
   "source": [
    "- The following example retrieves the total age of the member of each gender"
   ]
  },
  {
   "cell_type": "code",
   "execution_count": null,
   "id": "11dd8a241c88f350",
   "metadata": {
    "tags": [
     "start"
    ]
   },
   "outputs": [],
   "source": [
    "Map<Person.Sex, Integer> totalAgeByGender =\n",
    "    people\n",
    "        .stream()\n",
    "        .collect(\n",
    "            Collectors.groupingBy(...);"
   ]
  },
  {
   "cell_type": "markdown",
   "id": "b9a30bc201e64c6b",
   "metadata": {
    "lang": "en",
    "slideshow": {
     "slide_type": "slide"
    },
    "tags": [
     "slide"
    ]
   },
   "source": [
    "The reducing operation takes three parameters:\n",
    "- **Identity**: Like the `Stream.reduce` operation, the identity element is both the initial value of the reduction and the default result if there are no elements in the stream\n",
    "     - In this example, the identity element is 0; this is the initial value of the sum of ages and the default value if no members exist\n",
    "- **Mapper**: The reducing operation applies this mapper function to all stream elements\n",
    "     -  In this example, the mapper retrieves the age of each member\n",
    "- **Operation**: The operation function is used to reduce the mapped values\n",
    "     - In this example, the operation function adds Integer values.        "
   ]
  },
  {
   "cell_type": "markdown",
   "id": "71a98386ded8c504",
   "metadata": {
    "lang": "en",
    "slideshow": {
     "slide_type": "slide"
    },
    "tags": [
     "slide"
    ]
   },
   "source": [
    "## Mini-Workshop\n",
    "- Build a pipeline to retrieve the average age of members of each gender\n",
    "- Use the `groupingBy` and `averagingInt` operations from the `Collectors` class"
   ]
  },
  {
   "cell_type": "code",
   "execution_count": null,
   "id": "37c926ef1c5ea785",
   "metadata": {},
   "outputs": [],
   "source": []
  }
 ],
 "metadata": {
  "kernelspec": {
   "display_name": "Java",
   "language": "java",
   "name": "java"
  },
  "language_info": {
   "codemirror_mode": "java",
   "file_extension": ".java",
   "mimetype": "text/java",
   "name": "Java",
   "pygments_lexer": "java",
   "version": ""
  }
 },
 "nbformat": 4,
 "nbformat_minor": 5
}
